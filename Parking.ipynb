{
 "cells": [
  {
   "cell_type": "code",
   "execution_count": 1,
   "id": "77cde6da",
   "metadata": {},
   "outputs": [],
   "source": [
    "import numpy as np\n",
    "import pandas as pd"
   ]
  },
  {
   "cell_type": "code",
   "execution_count": 2,
   "id": "a5260f84",
   "metadata": {},
   "outputs": [
    {
     "name": "stderr",
     "output_type": "stream",
     "text": [
      "C:\\APPsDownload\\Anaconda\\lib\\site-packages\\IPython\\core\\interactiveshell.py:3444: DtypeWarning: Columns (20,31,32) have mixed types.Specify dtype option on import or set low_memory=False.\n",
      "  exec(code_obj, self.user_global_ns, self.user_ns)\n"
     ]
    }
   ],
   "source": [
    "file_input = '311_Service_Requests_2020.csv'\n",
    "df = pd.read_csv(file_input)"
   ]
  },
  {
   "cell_type": "code",
   "execution_count": 3,
   "id": "0b4e7b5e",
   "metadata": {},
   "outputs": [],
   "source": [
    "# Remove rows with Incident Zip == NaN\n",
    "df = df[df['Incident Zip'].notnull()]"
   ]
  },
  {
   "cell_type": "code",
   "execution_count": 4,
   "id": "cd0b1781",
   "metadata": {},
   "outputs": [],
   "source": [
    "# Compare fraction of illegal parking of 10455 Bronx and across NYC\n",
    "parking_10455 = len(df[(df['Complaint Type'] == 'Illegal Parking')\n",
    "                       & (df['Incident Zip'] == 10455)].index) / len(df[df['Incident Zip'] == 10455])\n",
    "parking_nyc = len(df[df['Complaint Type'] == 'Illegal Parking'].index) / len(df)\n",
    "\n",
    "higher_parking_proportion = parking_10455 > parking_nyc"
   ]
  },
  {
   "cell_type": "code",
   "execution_count": 5,
   "id": "9a2b82ea",
   "metadata": {},
   "outputs": [
    {
     "data": {
      "text/plain": [
       "False"
      ]
     },
     "execution_count": 5,
     "metadata": {},
     "output_type": "execute_result"
    }
   ],
   "source": [
    "higher_parking_proportion"
   ]
  }
 ],
 "metadata": {
  "kernelspec": {
   "display_name": "Python 3 (ipykernel)",
   "language": "python",
   "name": "python3"
  },
  "language_info": {
   "codemirror_mode": {
    "name": "ipython",
    "version": 3
   },
   "file_extension": ".py",
   "mimetype": "text/x-python",
   "name": "python",
   "nbconvert_exporter": "python",
   "pygments_lexer": "ipython3",
   "version": "3.8.8"
  },
  "toc": {
   "base_numbering": 1,
   "nav_menu": {},
   "number_sections": true,
   "sideBar": true,
   "skip_h1_title": false,
   "title_cell": "Table of Contents",
   "title_sidebar": "Contents",
   "toc_cell": false,
   "toc_position": {},
   "toc_section_display": true,
   "toc_window_display": false
  }
 },
 "nbformat": 4,
 "nbformat_minor": 5
}
